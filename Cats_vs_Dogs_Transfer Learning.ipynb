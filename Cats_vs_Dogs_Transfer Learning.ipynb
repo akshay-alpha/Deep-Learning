{
  "nbformat": 4,
  "nbformat_minor": 0,
  "metadata": {
    "colab": {
      "name": "Cats vs Dogs TL",
      "provenance": [],
      "collapsed_sections": [],
      "mount_file_id": "1u-76Yt4bvAJFSNWEtdwsKn_S4SitEK3X",
      "authorship_tag": "ABX9TyPea3h0NBNWTCpoimdvBxm+",
      "include_colab_link": true
    },
    "kernelspec": {
      "name": "python3",
      "display_name": "Python 3"
    },
    "language_info": {
      "name": "python"
    },
    "accelerator": "GPU"
  },
  "cells": [
    {
      "cell_type": "markdown",
      "metadata": {
        "id": "view-in-github",
        "colab_type": "text"
      },
      "source": [
        "<a href=\"https://colab.research.google.com/github/akshay-alpha/Deep-Learning/blob/main/Cats_vs_Dogs_Transfer%20Learning.ipynb\" target=\"_parent\"><img src=\"https://colab.research.google.com/assets/colab-badge.svg\" alt=\"Open In Colab\"/></a>"
      ]
    },
    {
      "cell_type": "code",
      "execution_count": null,
      "metadata": {
        "id": "_aTj2eOAKHLg"
      },
      "outputs": [],
      "source": [
        "#Change the location to drive\n",
        "\n",
        "!cd /content/drive/MyDrive/"
      ]
    },
    {
      "cell_type": "code",
      "source": [
        "#Extract all the files from Zip\n",
        "from zipfile import ZipFile"
      ],
      "metadata": {
        "id": "rYFYDL-1KQdt"
      },
      "execution_count": null,
      "outputs": []
    },
    {
      "cell_type": "code",
      "source": [
        "with ZipFile('/content/drive/MyDrive/dogs-vs-cats.zip','r') as ZipObj:\n",
        "  #Extract all contents of zip file in current directory\n",
        "  ZipObj.extractall()\n",
        "\n",
        "\n",
        "with ZipFile('train.zip','r') as ZipObj:\n",
        "  #Extract all contents of zip file in current directory\n",
        "  ZipObj.extractall()\n",
        "\n",
        "with ZipFile('test1.zip','r') as ZipObj:\n",
        "  #Extract all contents of zip file in current directory\n",
        "  ZipObj.extractall() "
      ],
      "metadata": {
        "id": "48bmJtz5QXQc"
      },
      "execution_count": null,
      "outputs": []
    },
    {
      "cell_type": "markdown",
      "source": [
        "## Create sub directories so that data is in this format\n",
        "\n",
        ">dataset_dogs_vs_cats\n",
        "  >>Train\n",
        "    >>>dogs ||\n",
        "    >>>cats\n",
        "\n",
        "  >>Test\n",
        "    >>>dogs ||\n",
        "    >>>cats"
      ],
      "metadata": {
        "id": "0yQyZqh0RYz9"
      }
    },
    {
      "cell_type": "code",
      "source": [
        "from os import makedirs\n",
        "#create directories\n",
        "\n",
        "dataset_home = 'dataset_dogs_vs_cats/'\n",
        "subdirs = ['train/','test/']\n",
        "for subdir in subdirs:\n",
        "  #create label subdirectories\n",
        "  labeldirs=['dogs/','cats/']\n",
        "  for labldir in labeldirs:\n",
        "    newdir = dataset_home+subdir+labldir\n",
        "    makedirs(newdir,exist_ok = True)"
      ],
      "metadata": {
        "id": "MrqJsSylQgXi"
      },
      "execution_count": null,
      "outputs": []
    },
    {
      "cell_type": "code",
      "source": [
        "#Now change your dataset to fit this format\n",
        "from os import makedirs\n",
        "from os import listdir\n",
        "from shutil import copyfile\n",
        "\n",
        "#create directories\n",
        "from random import seed,random\n",
        "seed(1)\n",
        "#define ration of pictures to use for validation\n",
        "val_ratio=0.25\n",
        "#copy training dataset images into sub directories\n",
        "src_directory = 'train'\n",
        "dataset_home = 'dataset_dogs_vs_cats/'\n",
        "for file in listdir(src_directory):\n",
        "  src = src_directory+'/'+file\n",
        "  dst_dir = 'train/'\n",
        "  if random() < val_ratio:\n",
        "    dst_dir = 'test/'\n",
        "  if file.startswith('cat'):\n",
        "    dst = dataset_home+dst_dir+'cats/'+file\n",
        "    copyfile(src,dst)\n",
        "  elif file.startswith('dog'):\n",
        "    dst = dataset_home+dst_dir+'dogs/'+file\n",
        "    copyfile(src,dst)"
      ],
      "metadata": {
        "id": "5OKe13UbQn_4"
      },
      "execution_count": null,
      "outputs": []
    },
    {
      "cell_type": "code",
      "source": [
        "import tensorflow as tf\n",
        "#Prepare a model for transfer learning( VGG 16)\n",
        "\n",
        "from keras.applications.vgg16 import VGG16\n",
        "from keras.models import Model\n",
        "from keras.layers import Dense, Flatten\n",
        "from keras.preprocessing.image import ImageDataGenerator\n",
        "model = VGG16(include_top=False,input_shape=(224,224,3))\n",
        "\n",
        "#mark loaded layers as not trainable\n",
        "for layer in model.layers:\n",
        "  layer.trainable = False\n",
        "\n",
        "#add new classifier layers >> bottle neck features\n",
        "flat1 = Flatten()(model.layers[-1].output)\n",
        "class1 = Dense(128,activation='relu',kernel_initializer='he_uniform')(flat1)\n",
        "output = Dense(1,activation='sigmoid')(class1)\n",
        "\n",
        "#define new model\n",
        "model = Model(inputs=model.inputs, outputs=output)\n",
        "\n",
        "#compile model\n",
        "opt = tf.keras.optimizers.SGD(learning_rate = 0.001, momentum= 0.9)\n",
        "model.compile(optimizer=opt,loss = 'binary_crossentropy', metrics=['accuracy'])"
      ],
      "metadata": {
        "id": "bI6bjKjxwUjN",
        "colab": {
          "base_uri": "https://localhost:8080/"
        },
        "outputId": "490fd0c6-c50b-4369-c39b-dcfda2cd7b84"
      },
      "execution_count": null,
      "outputs": [
        {
          "output_type": "stream",
          "name": "stdout",
          "text": [
            "Downloading data from https://storage.googleapis.com/tensorflow/keras-applications/vgg16/vgg16_weights_tf_dim_ordering_tf_kernels_notop.h5\n",
            "58892288/58889256 [==============================] - 1s 0us/step\n",
            "58900480/58889256 [==============================] - 1s 0us/step\n"
          ]
        }
      ]
    },
    {
      "cell_type": "code",
      "source": [
        "#Run the Model Using Generator\n",
        "datagen = ImageDataGenerator(featurewise_center=True)\n",
        "\n",
        "#specify imagenet mean values for centering\n",
        "datagen.mean = [123.68,116.779,103.939]\n",
        "#prepare iterator\n",
        "train_it = datagen.flow_from_directory('dataset_dogs_vs_cats/train/',class_mode='binary',batch_size=64,target_size=(224,224))\n",
        "test_it = datagen.flow_from_directory('dataset_dogs_vs_cats/test/',class_mode='binary',batch_size=64,target_size=(224,224))\n"
      ],
      "metadata": {
        "id": "SfRbpqnef2LC",
        "colab": {
          "base_uri": "https://localhost:8080/"
        },
        "outputId": "7feb1407-836c-498a-e496-12ac864ef9a0"
      },
      "execution_count": null,
      "outputs": [
        {
          "output_type": "stream",
          "name": "stdout",
          "text": [
            "Found 18697 images belonging to 2 classes.\n",
            "Found 6303 images belonging to 2 classes.\n"
          ]
        }
      ]
    },
    {
      "cell_type": "code",
      "source": [
        "#fitmodel\n",
        "history  = model.fit_generator(train_it,steps_per_epoch=len(train_it),validation_data=test_it,validation_steps=len(test_it),epochs=5,verbose=1)\n"
      ],
      "metadata": {
        "colab": {
          "base_uri": "https://localhost:8080/"
        },
        "id": "2eQ41f8Z7iP4",
        "outputId": "ab092532-3f6a-4186-fe9f-9420536b4880"
      },
      "execution_count": null,
      "outputs": [
        {
          "output_type": "stream",
          "name": "stderr",
          "text": [
            "/usr/local/lib/python3.7/dist-packages/ipykernel_launcher.py:2: UserWarning: `Model.fit_generator` is deprecated and will be removed in a future version. Please use `Model.fit`, which supports generators.\n",
            "  \n"
          ]
        },
        {
          "output_type": "stream",
          "name": "stdout",
          "text": [
            "Epoch 1/5\n",
            "293/293 [==============================] - 263s 850ms/step - loss: 0.2812 - accuracy: 0.9619 - val_loss: 0.0990 - val_accuracy: 0.9737\n",
            "Epoch 2/5\n",
            "293/293 [==============================] - 235s 802ms/step - loss: 0.0279 - accuracy: 0.9898 - val_loss: 0.1138 - val_accuracy: 0.9764\n",
            "Epoch 3/5\n",
            "293/293 [==============================] - 227s 773ms/step - loss: 0.0079 - accuracy: 0.9980 - val_loss: 0.1307 - val_accuracy: 0.9748\n",
            "Epoch 4/5\n",
            "293/293 [==============================] - 222s 758ms/step - loss: 0.0022 - accuracy: 0.9995 - val_loss: 0.1432 - val_accuracy: 0.9746\n",
            "Epoch 5/5\n",
            "293/293 [==============================] - 222s 757ms/step - loss: 0.0012 - accuracy: 0.9997 - val_loss: 0.1514 - val_accuracy: 0.9754\n"
          ]
        }
      ]
    },
    {
      "cell_type": "code",
      "source": [
        "# Plot the Loss and Accuracy\n",
        "\n",
        "import matplotlib.pyplot as pyplot\n",
        "import sys\n",
        "pyplot.subplot(211)\n",
        "pyplot.title('Cross Entropy Loss')\n",
        "pyplot.plot(history.history['loss'],color='blue',label='train')\n",
        "pyplot.plot(history.history['val_loss'],color='orange',label='test')"
      ],
      "metadata": {
        "colab": {
          "base_uri": "https://localhost:8080/",
          "height": 181
        },
        "id": "SGEvtJIs7iU9",
        "outputId": "86518fe8-7743-40a7-cbc3-1870fe30901e"
      },
      "execution_count": null,
      "outputs": [
        {
          "output_type": "execute_result",
          "data": {
            "text/plain": [
              "[<matplotlib.lines.Line2D at 0x7fed2a822f50>]"
            ]
          },
          "metadata": {},
          "execution_count": 10
        },
        {
          "output_type": "display_data",
          "data": {
            "text/plain": [
              "<Figure size 432x288 with 1 Axes>"
            ],
            "image/png": "[encoded data removed]"
          },
          "metadata": {
            "needs_background": "light"
          }
        }
      ]
    },
    {
      "cell_type": "code",
      "source": [
        "# Plot accuracy\n",
        "pyplot.subplot(212)\n",
        "pyplot.title('Clssification Accuracy')\n",
        "pyplot.plot(history.history['accuracy'],color='blue',label='train')\n",
        "pyplot.plot(history.history['val_accuracy'],color='orange',label='test')"
      ],
      "metadata": {
        "colab": {
          "base_uri": "https://localhost:8080/",
          "height": 181
        },
        "id": "HeS2h7JQ7icf",
        "outputId": "72a22ed3-bc99-4431-b1bf-49369c5bbf60"
      },
      "execution_count": null,
      "outputs": [
        {
          "output_type": "execute_result",
          "data": {
            "text/plain": [
              "[<matplotlib.lines.Line2D at 0x7fecbe2abc10>]"
            ]
          },
          "metadata": {},
          "execution_count": 12
        },
        {
          "output_type": "display_data",
          "data": {
            "text/plain": [
              "<Figure size 432x288 with 1 Axes>"
            ],
            "image/png": "[encoded data removed]"
          },
          "metadata": {
            "needs_background": "light"
          }
        }
      ]
    },
    {
      "cell_type": "code",
      "source": [
        "#Save the plot to file\n",
        "filename = sys.argv[0].split('/')[-1]\n",
        "pyplot.savefig(filename+'_plot.png')\n"
      ],
      "metadata": {
        "colab": {
          "base_uri": "https://localhost:8080/",
          "height": 35
        },
        "id": "7hfiCrUGu7Y2",
        "outputId": "35b3e11b-38a4-49c5-fa0b-31426a43b24a"
      },
      "execution_count": null,
      "outputs": [
        {
          "output_type": "display_data",
          "data": {
            "text/plain": [
              "<Figure size 432x288 with 0 Axes>"
            ]
          },
          "metadata": {}
        }
      ]
    },
    {
      "cell_type": "code",
      "source": [
        "#Save the model for future use\n",
        "model.save('final_model.h5')"
      ],
      "metadata": {
        "id": "nNKG2xgGu7kD"
      },
      "execution_count": null,
      "outputs": []
    },
    {
      "cell_type": "code",
      "source": [
        "#Predict outputs from model\n",
        "from keras.preprocessing.image import load_img\n",
        "from keras.preprocessing.image import img_to_array\n",
        "from keras.models import load_model\n",
        "\n",
        "#load & prepare the image\n",
        "#load the image\n",
        "\n",
        "img = load_img('/content/dataset_dogs_vs_cats/test/dogs/dog.10019.jpg',target_size=(224,224))\n",
        "\n",
        "#convert to array\n",
        "img = img_to_array(img)\n",
        "#reshape into single sample with 3 channels\n",
        "img = img.reshape(1,224,224,3)\n",
        "#center pixel data\n",
        "img = img.astype('float32')\n",
        "img = img-[123.68,116.779,103.939]\n"
      ],
      "metadata": {
        "id": "CBOst2_pu7ma"
      },
      "execution_count": 22,
      "outputs": []
    },
    {
      "cell_type": "code",
      "source": [
        "# 1 is for dogs and 0 is for cats\n",
        "\n",
        "result = model.predict(img)\n",
        "print(result[0])"
      ],
      "metadata": {
        "colab": {
          "base_uri": "https://localhost:8080/"
        },
        "id": "xZJPw2yFwZlG",
        "outputId": "2bc02c82-ff20-4f1c-dd2a-aa39fed23ecf"
      },
      "execution_count": 23,
      "outputs": [
        {
          "output_type": "stream",
          "name": "stdout",
          "text": [
            "[1.]\n"
          ]
        }
      ]
    }
  ]
}